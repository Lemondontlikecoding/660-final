{
  "nbformat": 4,
  "nbformat_minor": 0,
  "metadata": {
    "colab": {
      "provenance": [],
      "authorship_tag": "ABX9TyO2qqwxxxBYi3V8YuGY6jYo",
      "include_colab_link": true
    },
    "kernelspec": {
      "name": "python3",
      "display_name": "Python 3"
    },
    "language_info": {
      "name": "python"
    }
  },
  "cells": [
    {
      "cell_type": "markdown",
      "metadata": {
        "id": "view-in-github",
        "colab_type": "text"
      },
      "source": [
        "<a href=\"https://colab.research.google.com/github/Meichen1029/660Final/blob/main/Team3_Row64.ipynb\" target=\"_parent\"><img src=\"https://colab.research.google.com/assets/colab-badge.svg\" alt=\"Open In Colab\"/></a>"
      ]
    },
    {
      "cell_type": "markdown",
      "source": [
        "Import Fina.csv"
      ],
      "metadata": {
        "id": "swtiEJGYsgEO"
      }
    },
    {
      "cell_type": "code",
      "execution_count": null,
      "metadata": {
        "id": "2SnlRjZErPrV"
      },
      "outputs": [],
      "source": [
        "import row64\n",
        "\n",
        "#IMPORT(\"C:\\Users\\nhfor\\Downloads\\Fina.csv\")\n",
        "dfIn=row64.get_dataframe(\"Dataframe14\")"
      ]
    },
    {
      "cell_type": "markdown",
      "source": [
        "TimeSeries Plot"
      ],
      "metadata": {
        "id": "zOnHIG24slQb"
      }
    },
    {
      "cell_type": "code",
      "source": [
        "import matplotlib.dates as md\n",
        "import matplotlib.pyplot as plt\n",
        "import pandas as pd\n",
        "import row64\n",
        "\n",
        "def TimeSeries(inDf, inDateI, inValI):\n",
        "\tvalues = inDf[inDf.columns[inValI]]\n",
        "\tdates = inDf[inDf.columns[inDateI]]\n",
        "\tinDf[inDf.columns[inDateI]]= pd.to_datetime(inDf[inDf.columns[inDateI]])\n",
        "\tconverted_dates = md.datestr2num(dates)\n",
        "\tx_axis = (converted_dates)\n",
        "\tplt.figure(figsize=(10,5))\n",
        "\tplt.margins(0, 0.06)\n",
        "\tplt.plot_date(x_axis, values, '-',color='#1F77B4')\n",
        "\n",
        "#IMPORT(\"C:\\Users\\nhfor\\Downloads\\Fina.csv\")\n",
        "dfIn=row64.get_dataframe(\"Dataframe14\")\n",
        "df=dfIn.copy(deep=True)\n",
        "TimeSeries(df,0,26)"
      ],
      "metadata": {
        "id": "5-mgUM0Mr2Lz"
      },
      "execution_count": null,
      "outputs": []
    },
    {
      "cell_type": "markdown",
      "source": [
        "Donut Chart"
      ],
      "metadata": {
        "id": "65qj0OnDsoQd"
      }
    },
    {
      "cell_type": "code",
      "source": [
        "import matplotlib.pyplot as plt\n",
        "import numpy as np\n",
        "import pandas as pd\n",
        "import row64\n",
        "\n",
        "def DonutChart(inDf, inNameI, inValueI, inHighlightI):\n",
        "\tvalues = inDf[inDf.columns[inValueI]]\n",
        "\tnames = inDf[inDf.columns[inNameI]]\n",
        "\tfig, ax = plt.subplots()\n",
        "\tcmap = plt.get_cmap('Greys')\n",
        "\tcolors = list(cmap(np.linspace(0.45, 0.85, len(values))))\n",
        "\tcolors[inHighlightI] = \"#21CC86\";\n",
        "\tpatches, texts, pcts = ax.pie(\n",
        "\tvalues, labels=names, autopct='%.1f%%',\n",
        "\twedgeprops={'linewidth': 1.5, 'edgecolor': 'white'},\n",
        "\tstartangle=90,colors=colors,pctdistance=.85)\n",
        "\tcentre_circle = plt.Circle((0, 0), 0.70, fc='white')\n",
        "\tfig.gca().add_artist(centre_circle)\n",
        "\tfor i, patch in enumerate(patches):\n",
        "\t\ttexts[i].set_color(patch.get_facecolor())\n",
        "\t\tplt.setp(pcts, color='white',size='8')\n",
        "\t\tplt.setp(texts, fontweight=600)\n",
        "\t\tplt.tight_layout()\n",
        "\n",
        "#IMPORT(\"C:\\Users\\nhfor\\Downloads\\Fina.csv\")\n",
        "dfIn=row64.get_dataframe(\"Dataframe14\")\n",
        "df=dfIn.copy(deep=True)\n",
        "DonutChart(df,0,26,-1)"
      ],
      "metadata": {
        "id": "AYq3WDErsMCq"
      },
      "execution_count": null,
      "outputs": []
    },
    {
      "cell_type": "markdown",
      "source": [
        "Linear Regression"
      ],
      "metadata": {
        "id": "z-um67ogssWq"
      }
    },
    {
      "cell_type": "code",
      "source": [
        "import matplotlib.pyplot as plt\n",
        "import numpy as np\n",
        "import pandas as pd\n",
        "import row64\n",
        "\n",
        "def LinReg(inDf, inInd1, inInd2):\n",
        "\tvalues1 = inDf[inDf.columns[inInd1]]\n",
        "\tvalues2 = inDf[inDf.columns[inInd2]]\n",
        "\tfig, ax = plt.subplots(figsize = (9, 9))\n",
        "\tax.scatter(values1, values2, s=60, alpha=0.7, edgecolors=\"k\")\n",
        "\tb, a = np.polyfit(values1, values2, deg=1)\n",
        "\tprint(\"intercept: \", a)\n",
        "\tprint(\"coefficient: \", b)\n",
        "\txmin = min(values1)\n",
        "\txmax = max(values1)\n",
        "\txrng = xmax - xmin\n",
        "\txseq = np.linspace(xmin-.1*xrng, xmax+.1*xrng, num=10)\n",
        "\tax.plot(xseq, a + b * xseq, color=\"k\", lw=2.5)\n",
        "\n",
        "#IMPORT(\"C:\\Users\\nhfor\\Downloads\\Fina.csv\")\n",
        "dfIn=row64.get_dataframe(\"Dataframe14\")\n",
        "df=dfIn.copy(deep=True)\n",
        "LinReg(df,26,21)"
      ],
      "metadata": {
        "id": "PhUgaaoqsWHK"
      },
      "execution_count": null,
      "outputs": []
    },
    {
      "cell_type": "markdown",
      "source": [
        "Column Summary"
      ],
      "metadata": {
        "id": "NpAdPRsRsuQV"
      }
    },
    {
      "cell_type": "code",
      "source": [
        "import pandas as pd\n",
        "import row64\n",
        "\n",
        "#IMPORT(\"C:\\Users\\nhfor\\Downloads\\Fina.csv\")\n",
        "dfIn=row64.get_dataframe(\"Dataframe14\")\n",
        "df=dfIn.copy(deep=True)\n",
        "df=df.describe(include='all').reset_index()"
      ],
      "metadata": {
        "id": "4xVVNy0osccm"
      },
      "execution_count": null,
      "outputs": []
    }
  ]
}