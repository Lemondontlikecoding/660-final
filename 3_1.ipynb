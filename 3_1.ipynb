{
  "cells": [
    {
      "cell_type": "markdown",
      "metadata": {
        "id": "94QZS3pwy7y1"
      },
      "source": [
        "# Instructor: Alfonso Berumen\n",
        "## Pepperdine University\n",
        "## ISTM 660"
      ]
    },
    {
      "cell_type": "markdown",
      "metadata": {
        "id": "myiFc_yyzUG7"
      },
      "source": [
        "#**Setting up the initial notebook**\n",
        "####Import Python packages"
      ]
    },
    {
      "cell_type": "code",
      "execution_count": null,
      "metadata": {
        "id": "doOYfB6guHBO"
      },
      "outputs": [],
      "source": [
        "#import pandas:\n",
        "import pandas as pd\n",
        "#import numpy:\n",
        "import numpy as np\n",
        "#matplotlib\n",
        "import matplotlib.pyplot as plt\n",
        "%matplotlib inline\n",
        "\n",
        "#several others\n",
        "import scipy\n",
        "import sklearn\n",
        "import graphviz\n",
        "\n",
        "#for statstical testing\n",
        "import scipy.stats as stats"
      ]
    },
    {
      "cell_type": "code",
      "execution_count": null,
      "metadata": {
        "id": "TcBov1yCcrMY",
        "colab": {
          "base_uri": "https://localhost:8080/"
        },
        "outputId": "7dec690e-a053-4ba5-d0d0-e26e66ea26f0"
      },
      "outputs": [
        {
          "output_type": "stream",
          "name": "stdout",
          "text": [
            "Looking in indexes: https://pypi.org/simple, https://us-python.pkg.dev/colab-wheels/public/simple/\n",
            "Requirement already satisfied: researchpy in /usr/local/lib/python3.8/dist-packages (0.3.5)\n",
            "Requirement already satisfied: patsy in /usr/local/lib/python3.8/dist-packages (from researchpy) (0.5.3)\n",
            "Requirement already satisfied: pandas in /usr/local/lib/python3.8/dist-packages (from researchpy) (1.3.5)\n",
            "Requirement already satisfied: numpy in /usr/local/lib/python3.8/dist-packages (from researchpy) (1.21.6)\n",
            "Requirement already satisfied: scipy in /usr/local/lib/python3.8/dist-packages (from researchpy) (1.7.3)\n",
            "Requirement already satisfied: statsmodels in /usr/local/lib/python3.8/dist-packages (from researchpy) (0.13.5)\n",
            "Requirement already satisfied: pytz>=2017.3 in /usr/local/lib/python3.8/dist-packages (from pandas->researchpy) (2022.6)\n",
            "Requirement already satisfied: python-dateutil>=2.7.3 in /usr/local/lib/python3.8/dist-packages (from pandas->researchpy) (2.8.2)\n",
            "Requirement already satisfied: six>=1.5 in /usr/local/lib/python3.8/dist-packages (from python-dateutil>=2.7.3->pandas->researchpy) (1.15.0)\n",
            "Requirement already satisfied: packaging>=21.3 in /usr/local/lib/python3.8/dist-packages (from statsmodels->researchpy) (21.3)\n",
            "Requirement already satisfied: pyparsing!=3.0.5,>=2.0.2 in /usr/local/lib/python3.8/dist-packages (from packaging>=21.3->statsmodels->researchpy) (3.0.9)\n"
          ]
        }
      ],
      "source": [
        "!pip install researchpy"
      ]
    },
    {
      "cell_type": "code",
      "execution_count": null,
      "metadata": {
        "id": "mdfRCHwC089O",
        "colab": {
          "base_uri": "https://localhost:8080/",
          "height": 58
        },
        "outputId": "bd048036-6df4-4670-dae3-e7f58d0840c0"
      },
      "outputs": [
        {
          "output_type": "display_data",
          "data": {
            "text/plain": [
              "<IPython.core.display.HTML object>"
            ],
            "text/html": [
              "\n",
              "     <input type=\"file\" id=\"files-a0c88af6-6c4b-4d1d-b8eb-1549370dcc65\" name=\"files[]\" multiple disabled\n",
              "        style=\"border:none\" />\n",
              "     <output id=\"result-a0c88af6-6c4b-4d1d-b8eb-1549370dcc65\">\n",
              "      Upload widget is only available when the cell has been executed in the\n",
              "      current browser session. Please rerun this cell to enable.\n",
              "      </output>\n",
              "      <script>// Copyright 2017 Google LLC\n",
              "//\n",
              "// Licensed under the Apache License, Version 2.0 (the \"License\");\n",
              "// you may not use this file except in compliance with the License.\n",
              "// You may obtain a copy of the License at\n",
              "//\n",
              "//      http://www.apache.org/licenses/LICENSE-2.0\n",
              "//\n",
              "// Unless required by applicable law or agreed to in writing, software\n",
              "// distributed under the License is distributed on an \"AS IS\" BASIS,\n",
              "// WITHOUT WARRANTIES OR CONDITIONS OF ANY KIND, either express or implied.\n",
              "// See the License for the specific language governing permissions and\n",
              "// limitations under the License.\n",
              "\n",
              "/**\n",
              " * @fileoverview Helpers for google.colab Python module.\n",
              " */\n",
              "(function(scope) {\n",
              "function span(text, styleAttributes = {}) {\n",
              "  const element = document.createElement('span');\n",
              "  element.textContent = text;\n",
              "  for (const key of Object.keys(styleAttributes)) {\n",
              "    element.style[key] = styleAttributes[key];\n",
              "  }\n",
              "  return element;\n",
              "}\n",
              "\n",
              "// Max number of bytes which will be uploaded at a time.\n",
              "const MAX_PAYLOAD_SIZE = 100 * 1024;\n",
              "\n",
              "function _uploadFiles(inputId, outputId) {\n",
              "  const steps = uploadFilesStep(inputId, outputId);\n",
              "  const outputElement = document.getElementById(outputId);\n",
              "  // Cache steps on the outputElement to make it available for the next call\n",
              "  // to uploadFilesContinue from Python.\n",
              "  outputElement.steps = steps;\n",
              "\n",
              "  return _uploadFilesContinue(outputId);\n",
              "}\n",
              "\n",
              "// This is roughly an async generator (not supported in the browser yet),\n",
              "// where there are multiple asynchronous steps and the Python side is going\n",
              "// to poll for completion of each step.\n",
              "// This uses a Promise to block the python side on completion of each step,\n",
              "// then passes the result of the previous step as the input to the next step.\n",
              "function _uploadFilesContinue(outputId) {\n",
              "  const outputElement = document.getElementById(outputId);\n",
              "  const steps = outputElement.steps;\n",
              "\n",
              "  const next = steps.next(outputElement.lastPromiseValue);\n",
              "  return Promise.resolve(next.value.promise).then((value) => {\n",
              "    // Cache the last promise value to make it available to the next\n",
              "    // step of the generator.\n",
              "    outputElement.lastPromiseValue = value;\n",
              "    return next.value.response;\n",
              "  });\n",
              "}\n",
              "\n",
              "/**\n",
              " * Generator function which is called between each async step of the upload\n",
              " * process.\n",
              " * @param {string} inputId Element ID of the input file picker element.\n",
              " * @param {string} outputId Element ID of the output display.\n",
              " * @return {!Iterable<!Object>} Iterable of next steps.\n",
              " */\n",
              "function* uploadFilesStep(inputId, outputId) {\n",
              "  const inputElement = document.getElementById(inputId);\n",
              "  inputElement.disabled = false;\n",
              "\n",
              "  const outputElement = document.getElementById(outputId);\n",
              "  outputElement.innerHTML = '';\n",
              "\n",
              "  const pickedPromise = new Promise((resolve) => {\n",
              "    inputElement.addEventListener('change', (e) => {\n",
              "      resolve(e.target.files);\n",
              "    });\n",
              "  });\n",
              "\n",
              "  const cancel = document.createElement('button');\n",
              "  inputElement.parentElement.appendChild(cancel);\n",
              "  cancel.textContent = 'Cancel upload';\n",
              "  const cancelPromise = new Promise((resolve) => {\n",
              "    cancel.onclick = () => {\n",
              "      resolve(null);\n",
              "    };\n",
              "  });\n",
              "\n",
              "  // Wait for the user to pick the files.\n",
              "  const files = yield {\n",
              "    promise: Promise.race([pickedPromise, cancelPromise]),\n",
              "    response: {\n",
              "      action: 'starting',\n",
              "    }\n",
              "  };\n",
              "\n",
              "  cancel.remove();\n",
              "\n",
              "  // Disable the input element since further picks are not allowed.\n",
              "  inputElement.disabled = true;\n",
              "\n",
              "  if (!files) {\n",
              "    return {\n",
              "      response: {\n",
              "        action: 'complete',\n",
              "      }\n",
              "    };\n",
              "  }\n",
              "\n",
              "  for (const file of files) {\n",
              "    const li = document.createElement('li');\n",
              "    li.append(span(file.name, {fontWeight: 'bold'}));\n",
              "    li.append(span(\n",
              "        `(${file.type || 'n/a'}) - ${file.size} bytes, ` +\n",
              "        `last modified: ${\n",
              "            file.lastModifiedDate ? file.lastModifiedDate.toLocaleDateString() :\n",
              "                                    'n/a'} - `));\n",
              "    const percent = span('0% done');\n",
              "    li.appendChild(percent);\n",
              "\n",
              "    outputElement.appendChild(li);\n",
              "\n",
              "    const fileDataPromise = new Promise((resolve) => {\n",
              "      const reader = new FileReader();\n",
              "      reader.onload = (e) => {\n",
              "        resolve(e.target.result);\n",
              "      };\n",
              "      reader.readAsArrayBuffer(file);\n",
              "    });\n",
              "    // Wait for the data to be ready.\n",
              "    let fileData = yield {\n",
              "      promise: fileDataPromise,\n",
              "      response: {\n",
              "        action: 'continue',\n",
              "      }\n",
              "    };\n",
              "\n",
              "    // Use a chunked sending to avoid message size limits. See b/62115660.\n",
              "    let position = 0;\n",
              "    do {\n",
              "      const length = Math.min(fileData.byteLength - position, MAX_PAYLOAD_SIZE);\n",
              "      const chunk = new Uint8Array(fileData, position, length);\n",
              "      position += length;\n",
              "\n",
              "      const base64 = btoa(String.fromCharCode.apply(null, chunk));\n",
              "      yield {\n",
              "        response: {\n",
              "          action: 'append',\n",
              "          file: file.name,\n",
              "          data: base64,\n",
              "        },\n",
              "      };\n",
              "\n",
              "      let percentDone = fileData.byteLength === 0 ?\n",
              "          100 :\n",
              "          Math.round((position / fileData.byteLength) * 100);\n",
              "      percent.textContent = `${percentDone}% done`;\n",
              "\n",
              "    } while (position < fileData.byteLength);\n",
              "  }\n",
              "\n",
              "  // All done.\n",
              "  yield {\n",
              "    response: {\n",
              "      action: 'complete',\n",
              "    }\n",
              "  };\n",
              "}\n",
              "\n",
              "scope.google = scope.google || {};\n",
              "scope.google.colab = scope.google.colab || {};\n",
              "scope.google.colab._files = {\n",
              "  _uploadFiles,\n",
              "  _uploadFilesContinue,\n",
              "};\n",
              "})(self);\n",
              "</script> "
            ]
          },
          "metadata": {}
        },
        {
          "output_type": "execute_result",
          "data": {
            "text/plain": [
              "{}"
            ]
          },
          "metadata": {},
          "execution_count": 4
        }
      ],
      "source": [
        "#Upload files via google colab (not a typical import process for Python)\n",
        "from google.colab import files\n",
        "files.upload()"
      ]
    },
    {
      "cell_type": "code",
      "execution_count": null,
      "metadata": {
        "id": "WGsrpD-T17lL"
      },
      "outputs": [],
      "source": [
        "#Python dataset\n",
        "Fina = pd.read_csv('/content/Fina.csv');"
      ]
    },
    {
      "cell_type": "code",
      "execution_count": null,
      "metadata": {
        "id": "G1Zh7Iln3egr",
        "colab": {
          "base_uri": "https://localhost:8080/"
        },
        "outputId": "08a977c2-321c-481f-e1cb-770532aae9ad"
      },
      "outputs": [
        {
          "output_type": "stream",
          "name": "stdout",
          "text": [
            "Number of samples: 15\n"
          ]
        }
      ],
      "source": [
        "#how many records are in it?\n",
        "print(\"Number of samples: %d\" % len(Fina))"
      ]
    },
    {
      "cell_type": "code",
      "execution_count": null,
      "metadata": {
        "id": "Xz4ZD0yx2dKJ",
        "colab": {
          "base_uri": "https://localhost:8080/",
          "height": 456
        },
        "outputId": "a836dc1e-5611-4322-9f83-5c95e6a3570d"
      },
      "outputs": [
        {
          "output_type": "execute_result",
          "data": {
            "text/plain": [
              "       Data  B_Qty  C_Qty  D_Qty  E_Qty  F_Qty  G_Qty  Product_B  Product_C  \\\n",
              "0  1-Jan-19      2      0     22     13      6      2    2000000          0   \n",
              "1  1-Apr-19      3      0     25      0      0      1    3000000          0   \n",
              "2  1-Jul-19      0      0     46      1      9      4          0          0   \n",
              "3  1-Oct-19      7      0      4      3     20      1    7000000          0   \n",
              "4  1-Jan-20      0      0     13      2      1      1          0          0   \n",
              "\n",
              "   Product_D  ...  Reagent_E  Reagent_F  Reagent_G  Cons_Total  customer_1  \\\n",
              "0    5940000  ...   806448.0   278785.3    14629.5  16492761.4    15543119   \n",
              "1    6750000  ...   453525.8   126188.0        0.0  16779831.6    16168168   \n",
              "2   12420000  ...   441092.4   355355.6        0.0  16746946.0    19478534   \n",
              "3    1080000  ...  1200024.4   403370.6    17377.9  17112714.6    18174553   \n",
              "4    3510000  ...   277061.9    80378.9        0.0  21853663.5    20098973   \n",
              "\n",
              "   customer_5  customer_11  customer_14  customer_17  Total_SQ_PC  \n",
              "0     3713000      1302856      1421490      1125999     25895340  \n",
              "1     3819028      2271309      1395880      2948214     29557736  \n",
              "2     1397282      3033029       600171       369660     28015719  \n",
              "3     2946175      1274149      1187931        21067     26729096  \n",
              "4     2043207      1508007      2124308      1410110     29205905  \n",
              "\n",
              "[5 rows x 27 columns]"
            ],
            "text/html": [
              "\n",
              "  <div id=\"df-b46747a3-2eca-4dfa-a634-86ca46d8fe96\">\n",
              "    <div class=\"colab-df-container\">\n",
              "      <div>\n",
              "<style scoped>\n",
              "    .dataframe tbody tr th:only-of-type {\n",
              "        vertical-align: middle;\n",
              "    }\n",
              "\n",
              "    .dataframe tbody tr th {\n",
              "        vertical-align: top;\n",
              "    }\n",
              "\n",
              "    .dataframe thead th {\n",
              "        text-align: right;\n",
              "    }\n",
              "</style>\n",
              "<table border=\"1\" class=\"dataframe\">\n",
              "  <thead>\n",
              "    <tr style=\"text-align: right;\">\n",
              "      <th></th>\n",
              "      <th>Data</th>\n",
              "      <th>B_Qty</th>\n",
              "      <th>C_Qty</th>\n",
              "      <th>D_Qty</th>\n",
              "      <th>E_Qty</th>\n",
              "      <th>F_Qty</th>\n",
              "      <th>G_Qty</th>\n",
              "      <th>Product_B</th>\n",
              "      <th>Product_C</th>\n",
              "      <th>Product_D</th>\n",
              "      <th>...</th>\n",
              "      <th>Reagent_E</th>\n",
              "      <th>Reagent_F</th>\n",
              "      <th>Reagent_G</th>\n",
              "      <th>Cons_Total</th>\n",
              "      <th>customer_1</th>\n",
              "      <th>customer_5</th>\n",
              "      <th>customer_11</th>\n",
              "      <th>customer_14</th>\n",
              "      <th>customer_17</th>\n",
              "      <th>Total_SQ_PC</th>\n",
              "    </tr>\n",
              "  </thead>\n",
              "  <tbody>\n",
              "    <tr>\n",
              "      <th>0</th>\n",
              "      <td>1-Jan-19</td>\n",
              "      <td>2</td>\n",
              "      <td>0</td>\n",
              "      <td>22</td>\n",
              "      <td>13</td>\n",
              "      <td>6</td>\n",
              "      <td>2</td>\n",
              "      <td>2000000</td>\n",
              "      <td>0</td>\n",
              "      <td>5940000</td>\n",
              "      <td>...</td>\n",
              "      <td>806448.0</td>\n",
              "      <td>278785.3</td>\n",
              "      <td>14629.5</td>\n",
              "      <td>16492761.4</td>\n",
              "      <td>15543119</td>\n",
              "      <td>3713000</td>\n",
              "      <td>1302856</td>\n",
              "      <td>1421490</td>\n",
              "      <td>1125999</td>\n",
              "      <td>25895340</td>\n",
              "    </tr>\n",
              "    <tr>\n",
              "      <th>1</th>\n",
              "      <td>1-Apr-19</td>\n",
              "      <td>3</td>\n",
              "      <td>0</td>\n",
              "      <td>25</td>\n",
              "      <td>0</td>\n",
              "      <td>0</td>\n",
              "      <td>1</td>\n",
              "      <td>3000000</td>\n",
              "      <td>0</td>\n",
              "      <td>6750000</td>\n",
              "      <td>...</td>\n",
              "      <td>453525.8</td>\n",
              "      <td>126188.0</td>\n",
              "      <td>0.0</td>\n",
              "      <td>16779831.6</td>\n",
              "      <td>16168168</td>\n",
              "      <td>3819028</td>\n",
              "      <td>2271309</td>\n",
              "      <td>1395880</td>\n",
              "      <td>2948214</td>\n",
              "      <td>29557736</td>\n",
              "    </tr>\n",
              "    <tr>\n",
              "      <th>2</th>\n",
              "      <td>1-Jul-19</td>\n",
              "      <td>0</td>\n",
              "      <td>0</td>\n",
              "      <td>46</td>\n",
              "      <td>1</td>\n",
              "      <td>9</td>\n",
              "      <td>4</td>\n",
              "      <td>0</td>\n",
              "      <td>0</td>\n",
              "      <td>12420000</td>\n",
              "      <td>...</td>\n",
              "      <td>441092.4</td>\n",
              "      <td>355355.6</td>\n",
              "      <td>0.0</td>\n",
              "      <td>16746946.0</td>\n",
              "      <td>19478534</td>\n",
              "      <td>1397282</td>\n",
              "      <td>3033029</td>\n",
              "      <td>600171</td>\n",
              "      <td>369660</td>\n",
              "      <td>28015719</td>\n",
              "    </tr>\n",
              "    <tr>\n",
              "      <th>3</th>\n",
              "      <td>1-Oct-19</td>\n",
              "      <td>7</td>\n",
              "      <td>0</td>\n",
              "      <td>4</td>\n",
              "      <td>3</td>\n",
              "      <td>20</td>\n",
              "      <td>1</td>\n",
              "      <td>7000000</td>\n",
              "      <td>0</td>\n",
              "      <td>1080000</td>\n",
              "      <td>...</td>\n",
              "      <td>1200024.4</td>\n",
              "      <td>403370.6</td>\n",
              "      <td>17377.9</td>\n",
              "      <td>17112714.6</td>\n",
              "      <td>18174553</td>\n",
              "      <td>2946175</td>\n",
              "      <td>1274149</td>\n",
              "      <td>1187931</td>\n",
              "      <td>21067</td>\n",
              "      <td>26729096</td>\n",
              "    </tr>\n",
              "    <tr>\n",
              "      <th>4</th>\n",
              "      <td>1-Jan-20</td>\n",
              "      <td>0</td>\n",
              "      <td>0</td>\n",
              "      <td>13</td>\n",
              "      <td>2</td>\n",
              "      <td>1</td>\n",
              "      <td>1</td>\n",
              "      <td>0</td>\n",
              "      <td>0</td>\n",
              "      <td>3510000</td>\n",
              "      <td>...</td>\n",
              "      <td>277061.9</td>\n",
              "      <td>80378.9</td>\n",
              "      <td>0.0</td>\n",
              "      <td>21853663.5</td>\n",
              "      <td>20098973</td>\n",
              "      <td>2043207</td>\n",
              "      <td>1508007</td>\n",
              "      <td>2124308</td>\n",
              "      <td>1410110</td>\n",
              "      <td>29205905</td>\n",
              "    </tr>\n",
              "  </tbody>\n",
              "</table>\n",
              "<p>5 rows × 27 columns</p>\n",
              "</div>\n",
              "      <button class=\"colab-df-convert\" onclick=\"convertToInteractive('df-b46747a3-2eca-4dfa-a634-86ca46d8fe96')\"\n",
              "              title=\"Convert this dataframe to an interactive table.\"\n",
              "              style=\"display:none;\">\n",
              "        \n",
              "  <svg xmlns=\"http://www.w3.org/2000/svg\" height=\"24px\"viewBox=\"0 0 24 24\"\n",
              "       width=\"24px\">\n",
              "    <path d=\"M0 0h24v24H0V0z\" fill=\"none\"/>\n",
              "    <path d=\"M18.56 5.44l.94 2.06.94-2.06 2.06-.94-2.06-.94-.94-2.06-.94 2.06-2.06.94zm-11 1L8.5 8.5l.94-2.06 2.06-.94-2.06-.94L8.5 2.5l-.94 2.06-2.06.94zm10 10l.94 2.06.94-2.06 2.06-.94-2.06-.94-.94-2.06-.94 2.06-2.06.94z\"/><path d=\"M17.41 7.96l-1.37-1.37c-.4-.4-.92-.59-1.43-.59-.52 0-1.04.2-1.43.59L10.3 9.45l-7.72 7.72c-.78.78-.78 2.05 0 2.83L4 21.41c.39.39.9.59 1.41.59.51 0 1.02-.2 1.41-.59l7.78-7.78 2.81-2.81c.8-.78.8-2.07 0-2.86zM5.41 20L4 18.59l7.72-7.72 1.47 1.35L5.41 20z\"/>\n",
              "  </svg>\n",
              "      </button>\n",
              "      \n",
              "  <style>\n",
              "    .colab-df-container {\n",
              "      display:flex;\n",
              "      flex-wrap:wrap;\n",
              "      gap: 12px;\n",
              "    }\n",
              "\n",
              "    .colab-df-convert {\n",
              "      background-color: #E8F0FE;\n",
              "      border: none;\n",
              "      border-radius: 50%;\n",
              "      cursor: pointer;\n",
              "      display: none;\n",
              "      fill: #1967D2;\n",
              "      height: 32px;\n",
              "      padding: 0 0 0 0;\n",
              "      width: 32px;\n",
              "    }\n",
              "\n",
              "    .colab-df-convert:hover {\n",
              "      background-color: #E2EBFA;\n",
              "      box-shadow: 0px 1px 2px rgba(60, 64, 67, 0.3), 0px 1px 3px 1px rgba(60, 64, 67, 0.15);\n",
              "      fill: #174EA6;\n",
              "    }\n",
              "\n",
              "    [theme=dark] .colab-df-convert {\n",
              "      background-color: #3B4455;\n",
              "      fill: #D2E3FC;\n",
              "    }\n",
              "\n",
              "    [theme=dark] .colab-df-convert:hover {\n",
              "      background-color: #434B5C;\n",
              "      box-shadow: 0px 1px 3px 1px rgba(0, 0, 0, 0.15);\n",
              "      filter: drop-shadow(0px 1px 2px rgba(0, 0, 0, 0.3));\n",
              "      fill: #FFFFFF;\n",
              "    }\n",
              "  </style>\n",
              "\n",
              "      <script>\n",
              "        const buttonEl =\n",
              "          document.querySelector('#df-b46747a3-2eca-4dfa-a634-86ca46d8fe96 button.colab-df-convert');\n",
              "        buttonEl.style.display =\n",
              "          google.colab.kernel.accessAllowed ? 'block' : 'none';\n",
              "\n",
              "        async function convertToInteractive(key) {\n",
              "          const element = document.querySelector('#df-b46747a3-2eca-4dfa-a634-86ca46d8fe96');\n",
              "          const dataTable =\n",
              "            await google.colab.kernel.invokeFunction('convertToInteractive',\n",
              "                                                     [key], {});\n",
              "          if (!dataTable) return;\n",
              "\n",
              "          const docLinkHtml = 'Like what you see? Visit the ' +\n",
              "            '<a target=\"_blank\" href=https://colab.research.google.com/notebooks/data_table.ipynb>data table notebook</a>'\n",
              "            + ' to learn more about interactive tables.';\n",
              "          element.innerHTML = '';\n",
              "          dataTable['output_type'] = 'display_data';\n",
              "          await google.colab.output.renderOutput(dataTable, element);\n",
              "          const docLink = document.createElement('div');\n",
              "          docLink.innerHTML = docLinkHtml;\n",
              "          element.appendChild(docLink);\n",
              "        }\n",
              "      </script>\n",
              "    </div>\n",
              "  </div>\n",
              "  "
            ]
          },
          "metadata": {},
          "execution_count": 6
        }
      ],
      "source": [
        "#what's in it?\n",
        "Fina.head()"
      ]
    },
    {
      "cell_type": "code",
      "execution_count": null,
      "metadata": {
        "id": "6vY5HPEK6Sav",
        "colab": {
          "base_uri": "https://localhost:8080/"
        },
        "outputId": "9cf28438-4390-4b98-a9d6-4b9a050b2164"
      },
      "outputs": [
        {
          "output_type": "execute_result",
          "data": {
            "text/plain": [
              "<bound method NDFrame.describe of         Data  B_Qty  C_Qty  D_Qty  E_Qty  F_Qty  G_Qty  Product_B  Product_C  \\\n",
              "0   1-Jan-19      2      0     22     13      6      2    2000000          0   \n",
              "1   1-Apr-19      3      0     25      0      0      1    3000000          0   \n",
              "2   1-Jul-19      0      0     46      1      9      4          0          0   \n",
              "3   1-Oct-19      7      0      4      3     20      1    7000000          0   \n",
              "4   1-Jan-20      0      0     13      2      1      1          0          0   \n",
              "5   1-Apr-20      0      0      6      0     14      2          0          0   \n",
              "6   1-Jul-20      3      1     26      0      0      0    3000000     320000   \n",
              "7   1-Oct-20      2      0     27      2      2      0    2000000          0   \n",
              "8   1-Jan-21      3      0     41      3      6      0    3000000          0   \n",
              "9   1-Apr-21      2      0     49      0     17      3    2000000          0   \n",
              "10  1-Jul-21      1      1     42      2     11      0    1000000     320000   \n",
              "11  1-Oct-21      2      0     27      1      8      0    2000000          0   \n",
              "12  1-Jan-22      1      3     48      3     43      0    1000000     960000   \n",
              "13  1-Apr-22      1      4     25      1      4      0    1000000    1280000   \n",
              "14  1-Jul-22      2      0     39      1     20      0    2000000          0   \n",
              "\n",
              "    Product_D  ...  Reagent_E  Reagent_F  Reagent_G  Cons_Total  customer_1  \\\n",
              "0     5940000  ...   806448.0   278785.3    14629.5  16492761.4    15543119   \n",
              "1     6750000  ...   453525.8   126188.0        0.0  16779831.6    16168168   \n",
              "2    12420000  ...   441092.4   355355.6        0.0  16746946.0    19478534   \n",
              "3     1080000  ...  1200024.4   403370.6    17377.9  17112714.6    18174553   \n",
              "4     3510000  ...   277061.9    80378.9        0.0  21853663.5    20098973   \n",
              "5     1620000  ...   444201.6   217338.4    39092.6  20013885.9    15318669   \n",
              "6     7020000  ...   457845.6   190656.6     8041.8  14531926.8    11624498   \n",
              "7     7290000  ...   836909.2   439713.9    13876.1  18966483.6    14753568   \n",
              "8    11070000  ...   735147.4   406216.0    24873.9  31022140.6    21530455   \n",
              "9    13230000  ...   897932.7   704399.2    46273.7  35935639.1    26689371   \n",
              "10   11340000  ...   999979.3   629064.4        0.0  31290459.7    21772474   \n",
              "11    7290000  ...   659374.3   802629.8    14505.7  25731952.0    20053689   \n",
              "12   12960000  ...   861277.4   732327.9    15046.2  31848752.0    22371583   \n",
              "13    6750000  ...  1023406.1  1592975.8    33773.0  30883476.7    18667358   \n",
              "14   10530000  ...   705683.7  1552972.6        0.0  30372018.1    22530156   \n",
              "\n",
              "    customer_5  customer_11  customer_14  customer_17  Total_SQ_PC  \n",
              "0      3713000      1302856      1421490      1125999     25895340  \n",
              "1      3819028      2271309      1395880      2948214     29557736  \n",
              "2      1397282      3033029       600171       369660     28015719  \n",
              "3      2946175      1274149      1187931        21067     26729096  \n",
              "4      2043207      1508007      2124308      1410110     29205905  \n",
              "5      2985189      2193064       281910       322422     24638988  \n",
              "6      4522936      3251903       382680      3034904     27952926  \n",
              "7      2035987      2760821      2918391       623587     29295500  \n",
              "8      6750468      3443837      5123240      1584687     47755559  \n",
              "9      4971848      4466144      4608816      2392537     53497666  \n",
              "10     4235212      3562913       968736      3938438     46399125  \n",
              "11     3046098      2769947      2199792       220656     37224468  \n",
              "12     5341989      6383647      3702385      2417981     50230528  \n",
              "13     2655645      3869901      3559507      3440354     41244026  \n",
              "14     3732408      6312088      2938161      1523759     43351986  \n",
              "\n",
              "[15 rows x 27 columns]>"
            ]
          },
          "metadata": {},
          "execution_count": 30
        }
      ],
      "source": [
        "#describe the data\n",
        "Fina.describe"
      ]
    },
    {
      "cell_type": "code",
      "execution_count": null,
      "metadata": {
        "id": "ElMGkMOs69_p"
      },
      "outputs": [],
      "source": [
        "#more packages\n",
        "import seaborn as sn\n",
        "import matplotlib.pyplot as plt"
      ]
    },
    {
      "cell_type": "code",
      "execution_count": null,
      "metadata": {
        "id": "PE5F9jKM7BqO"
      },
      "outputs": [],
      "source": [
        "#scatter matrix\n",
        "pd.plotting.scatter_matrix(Fina)\n",
        "plt.show()"
      ]
    },
    {
      "cell_type": "code",
      "execution_count": null,
      "metadata": {
        "id": "WLt3_vmK7RbD",
        "colab": {
          "base_uri": "https://localhost:8080/",
          "height": 324
        },
        "outputId": "0b02cf05-6636-4167-b84a-4d41125031fa"
      },
      "outputs": [
        {
          "output_type": "display_data",
          "data": {
            "text/plain": [
              "<Figure size 432x288 with 2 Axes>"
            ],
            "image/png": "[encoded data removed]"
          },
          "metadata": {
            "needs_background": "light"
          }
        }
      ],
      "source": [
        "#correlation matrix\n",
        "corrMatrix = Fina.corr()\n",
        "sn.heatmap(corrMatrix, annot=True)\n",
        "plt.show()"
      ]
    },
    {
      "cell_type": "code",
      "execution_count": null,
      "metadata": {
        "id": "wP3CNiMc8RtE",
        "colab": {
          "base_uri": "https://localhost:8080/",
          "height": 308
        },
        "outputId": "977bb67f-ef00-4857-f0d5-7d664fdd9583"
      },
      "outputs": [
        {
          "output_type": "execute_result",
          "data": {
            "text/plain": [
              "<matplotlib.axes._subplots.AxesSubplot at 0x7fda8db704f0>"
            ]
          },
          "metadata": {},
          "execution_count": 8
        },
        {
          "output_type": "display_data",
          "data": {
            "text/plain": [
              "<Figure size 432x288 with 1 Axes>"
            ],
            "image/png": "[encoded data removed]"
          },
          "metadata": {
            "needs_background": "light"
          }
        }
      ],
      "source": [
        "#better for binary and continuous variable\n",
        "boxplot = sn.boxplot(x=\"E_Qty\", y=\"Reagent_E\", data=Fina)\n",
        "boxplot"
      ]
    },
    {
      "cell_type": "code",
      "execution_count": null,
      "metadata": {
        "id": "ieWV9_UScOZP"
      },
      "outputs": [],
      "source": [
        "import scipy.stats as stats"
      ]
    },
    {
      "cell_type": "code",
      "execution_count": null,
      "metadata": {
        "id": "JNTwYfdzb9sg",
        "colab": {
          "base_uri": "https://localhost:8080/"
        },
        "outputId": "17b82efa-0ae2-441c-810f-e1e9ab67e1db"
      },
      "outputs": [
        {
          "output_type": "execute_result",
          "data": {
            "text/plain": [
              "Ttest_indResult(statistic=nan, pvalue=nan)"
            ]
          },
          "metadata": {},
          "execution_count": 10
        }
      ],
      "source": [
        "stats.ttest_ind(Fina['B_Qty'][Fina['Reagent_B'] == 1],\n",
        "                Fina['B_Qty'][Fina['Reagent_B'] == 0], equal_var=True)"
      ]
    },
    {
      "cell_type": "code",
      "execution_count": null,
      "metadata": {
        "id": "4WvRGaIJckgW"
      },
      "outputs": [],
      "source": [
        "import researchpy as rp"
      ]
    },
    {
      "cell_type": "code",
      "execution_count": null,
      "metadata": {
        "id": "sCayBfCycgD5",
        "colab": {
          "base_uri": "https://localhost:8080/"
        },
        "outputId": "6c626c36-0dd9-4056-b081-4563ec1d3a49"
      },
      "outputs": [
        {
          "output_type": "stream",
          "name": "stderr",
          "text": [
            "/usr/local/lib/python3.8/dist-packages/numpy/core/_methods.py:262: RuntimeWarning: Degrees of freedom <= 0 for slice\n",
            "  ret = _var(a, axis=axis, dtype=dtype, out=out, ddof=ddof,\n",
            "/usr/local/lib/python3.8/dist-packages/numpy/core/_methods.py:222: RuntimeWarning: invalid value encountered in true_divide\n",
            "  arrmean = um.true_divide(arrmean, div, out=arrmean, casting='unsafe',\n",
            "/usr/local/lib/python3.8/dist-packages/numpy/core/_methods.py:254: RuntimeWarning: invalid value encountered in double_scalars\n",
            "  ret = ret.dtype.type(ret / rcount)\n"
          ]
        },
        {
          "output_type": "execute_result",
          "data": {
            "text/plain": [
              "(      Variable    N  Mean  SD  SE  95% Conf.  Interval\n",
              " 0  Sales_Rep=1  0.0   NaN NaN NaN        NaN       NaN\n",
              " 1  Sales_Rep=0  0.0   NaN NaN NaN        NaN       NaN\n",
              " 2     combined  0.0   NaN NaN NaN        NaN       NaN,\n",
              "                           Independent t-test  results\n",
              " 0  Difference (Sales_Rep=1 - Sales_Rep=0) =       NaN\n",
              " 1                      Degrees of freedom =      -2.0\n",
              " 2                                       t =       NaN\n",
              " 3                   Two side test p value =       NaN\n",
              " 4                  Difference < 0 p value =       NaN\n",
              " 5                  Difference > 0 p value =       NaN\n",
              " 6                               Cohen's d =       NaN\n",
              " 7                               Hedge's g =       NaN\n",
              " 8                          Glass's delta1 =       NaN\n",
              " 9                        Point-Biserial r =       NaN)"
            ]
          },
          "metadata": {},
          "execution_count": 14
        }
      ],
      "source": [
        "rp.ttest(group1= Fina['Total_SQ_PC'][Fina['Inst_Total'] == 1], group1_name= \"Sales_Rep=1\",\n",
        "         group2= Fina['Total_SQ_PC'][Fina['Inst_Total'] == 0], group2_name= \"Sales_Rep=0\")"
      ]
    },
    {
      "cell_type": "code",
      "execution_count": null,
      "metadata": {
        "id": "9rSrkAtQaVOg",
        "colab": {
          "base_uri": "https://localhost:8080/",
          "height": 308
        },
        "outputId": "243a4928-8cbf-498c-eeba-3346a902d72d"
      },
      "outputs": [
        {
          "output_type": "execute_result",
          "data": {
            "text/plain": [
              "<matplotlib.axes._subplots.AxesSubplot at 0x7fda8d462c40>"
            ]
          },
          "metadata": {},
          "execution_count": 16
        },
        {
          "output_type": "display_data",
          "data": {
            "text/plain": [
              "<Figure size 432x288 with 1 Axes>"
            ],
            "image/png": "[encoded data removed]"
          },
          "metadata": {
            "needs_background": "light"
          }
        }
      ],
      "source": [
        "boxplot = sn.boxplot(x=\"B_Qty\", y=\"Total_SQ_PC\", data=Fina)\n",
        "boxplot"
      ]
    },
    {
      "cell_type": "code",
      "execution_count": null,
      "metadata": {
        "id": "bTlnepTA7g9D"
      },
      "outputs": [],
      "source": [
        "#regression\n",
        "from statsmodels.api import OLS\n",
        "import statsmodels.formula.api as smf"
      ]
    },
    {
      "cell_type": "code",
      "execution_count": null,
      "metadata": {
        "id": "uBjfw-yR8uym",
        "colab": {
          "base_uri": "https://localhost:8080/",
          "height": 196
        },
        "outputId": "712dc4af-4c16-4bce-d93f-539dd2d287ab"
      },
      "outputs": [
        {
          "output_type": "stream",
          "name": "stderr",
          "text": [
            "/usr/local/lib/python3.8/dist-packages/scipy/stats/stats.py:1541: UserWarning: kurtosistest only valid for n>=20 ... continuing anyway, n=15\n",
            "  warnings.warn(\"kurtosistest only valid for n>=20 ... continuing \"\n"
          ]
        },
        {
          "output_type": "execute_result",
          "data": {
            "text/plain": [
              "<class 'statsmodels.iolib.table.SimpleTable'>"
            ],
            "text/html": [
              "<table class=\"simpletable\">\n",
              "<tr>\n",
              "       <td></td>          <th>coef</th>     <th>std err</th>      <th>t</th>      <th>P>|t|</th>  <th>[0.025</th>    <th>0.975]</th>  \n",
              "</tr>\n",
              "<tr>\n",
              "  <th>Intercept</th>   <td> -2.96e+06</td> <td> 4.02e+06</td> <td>   -0.736</td> <td> 0.480</td> <td>-1.21e+07</td> <td> 6.14e+06</td>\n",
              "</tr>\n",
              "<tr>\n",
              "  <th>customer_1</th>  <td>    1.2268</td> <td>    0.244</td> <td>    5.023</td> <td> 0.001</td> <td>    0.674</td> <td>    1.779</td>\n",
              "</tr>\n",
              "<tr>\n",
              "  <th>customer_5</th>  <td>    1.3635</td> <td>    0.619</td> <td>    2.203</td> <td> 0.055</td> <td>   -0.037</td> <td>    2.763</td>\n",
              "</tr>\n",
              "<tr>\n",
              "  <th>customer_11</th> <td>    1.4789</td> <td>    0.582</td> <td>    2.543</td> <td> 0.032</td> <td>    0.163</td> <td>    2.795</td>\n",
              "</tr>\n",
              "<tr>\n",
              "  <th>customer_14</th> <td>    1.4038</td> <td>    0.643</td> <td>    2.183</td> <td> 0.057</td> <td>   -0.051</td> <td>    2.859</td>\n",
              "</tr>\n",
              "<tr>\n",
              "  <th>customer_17</th> <td>    1.7201</td> <td>    0.625</td> <td>    2.754</td> <td> 0.022</td> <td>    0.307</td> <td>    3.133</td>\n",
              "</tr>\n",
              "</table>"
            ]
          },
          "metadata": {},
          "execution_count": 18
        }
      ],
      "source": [
        "#model\n",
        "est = smf.ols('Total_SQ_PC ~ customer_1 + customer_5 + customer_11 + customer_14 + customer_17 ',Fina).fit()\n",
        "est.summary().tables[1]"
      ]
    },
    {
      "cell_type": "code",
      "execution_count": null,
      "metadata": {
        "id": "WZ9buXJt_R6j",
        "colab": {
          "base_uri": "https://localhost:8080/",
          "height": 571
        },
        "outputId": "c0410130-7cbd-42b4-cd93-09621f50195a"
      },
      "outputs": [
        {
          "output_type": "execute_result",
          "data": {
            "text/plain": [
              "<class 'statsmodels.iolib.summary.Summary'>\n",
              "\"\"\"\n",
              "                            OLS Regression Results                            \n",
              "==============================================================================\n",
              "Dep. Variable:            Total_SQ_PC   R-squared:                       0.733\n",
              "Model:                            OLS   Adj. R-squared:                  0.533\n",
              "Method:                 Least Squares   F-statistic:                     3.664\n",
              "Date:                Fri, 09 Dec 2022   Prob (F-statistic):             0.0472\n",
              "Time:                        16:02:49   Log-Likelihood:                -252.71\n",
              "No. Observations:                  15   AIC:                             519.4\n",
              "Df Residuals:                       8   BIC:                             524.4\n",
              "Df Model:                           6                                         \n",
              "Covariance Type:            nonrobust                                         \n",
              "==============================================================================\n",
              "                 coef    std err          t      P>|t|      [0.025      0.975]\n",
              "------------------------------------------------------------------------------\n",
              "Intercept   2.139e+07   5.95e+06      3.595      0.007    7.67e+06    3.51e+07\n",
              "Product_B      0.3106      1.208      0.257      0.804      -2.474       3.095\n",
              "Product_C      2.1768      5.654      0.385      0.710     -10.861      15.215\n",
              "Product_D      1.7534      0.525      3.337      0.010       0.542       2.965\n",
              "Product_E     -2.3821      4.860     -0.490      0.637     -13.590       8.826\n",
              "Product_F      5.1077      4.640      1.101      0.303      -5.592      15.807\n",
              "Product_G   -194.1009    167.736     -1.157      0.281    -580.900     192.698\n",
              "==============================================================================\n",
              "Omnibus:                        0.095   Durbin-Watson:                   1.520\n",
              "Prob(Omnibus):                  0.954   Jarque-Bera (JB):                0.111\n",
              "Skew:                           0.100   Prob(JB):                        0.946\n",
              "Kurtosis:                       2.629   Cond. No.                     3.00e+07\n",
              "==============================================================================\n",
              "\n",
              "Notes:\n",
              "[1] Standard Errors assume that the covariance matrix of the errors is correctly specified.\n",
              "[2] The condition number is large,  3e+07. This might indicate that there are\n",
              "strong multicollinearity or other numerical problems.\n",
              "\"\"\""
            ],
            "text/html": [
              "<table class=\"simpletable\">\n",
              "<caption>OLS Regression Results</caption>\n",
              "<tr>\n",
              "  <th>Dep. Variable:</th>       <td>Total_SQ_PC</td>   <th>  R-squared:         </th> <td>   0.733</td>\n",
              "</tr>\n",
              "<tr>\n",
              "  <th>Model:</th>                   <td>OLS</td>       <th>  Adj. R-squared:    </th> <td>   0.533</td>\n",
              "</tr>\n",
              "<tr>\n",
              "  <th>Method:</th>             <td>Least Squares</td>  <th>  F-statistic:       </th> <td>   3.664</td>\n",
              "</tr>\n",
              "<tr>\n",
              "  <th>Date:</th>             <td>Fri, 09 Dec 2022</td> <th>  Prob (F-statistic):</th>  <td>0.0472</td> \n",
              "</tr>\n",
              "<tr>\n",
              "  <th>Time:</th>                 <td>16:02:49</td>     <th>  Log-Likelihood:    </th> <td> -252.71</td>\n",
              "</tr>\n",
              "<tr>\n",
              "  <th>No. Observations:</th>      <td>    15</td>      <th>  AIC:               </th> <td>   519.4</td>\n",
              "</tr>\n",
              "<tr>\n",
              "  <th>Df Residuals:</th>          <td>     8</td>      <th>  BIC:               </th> <td>   524.4</td>\n",
              "</tr>\n",
              "<tr>\n",
              "  <th>Df Model:</th>              <td>     6</td>      <th>                     </th>     <td> </td>   \n",
              "</tr>\n",
              "<tr>\n",
              "  <th>Covariance Type:</th>      <td>nonrobust</td>    <th>                     </th>     <td> </td>   \n",
              "</tr>\n",
              "</table>\n",
              "<table class=\"simpletable\">\n",
              "<tr>\n",
              "      <td></td>         <th>coef</th>     <th>std err</th>      <th>t</th>      <th>P>|t|</th>  <th>[0.025</th>    <th>0.975]</th>  \n",
              "</tr>\n",
              "<tr>\n",
              "  <th>Intercept</th> <td> 2.139e+07</td> <td> 5.95e+06</td> <td>    3.595</td> <td> 0.007</td> <td> 7.67e+06</td> <td> 3.51e+07</td>\n",
              "</tr>\n",
              "<tr>\n",
              "  <th>Product_B</th> <td>    0.3106</td> <td>    1.208</td> <td>    0.257</td> <td> 0.804</td> <td>   -2.474</td> <td>    3.095</td>\n",
              "</tr>\n",
              "<tr>\n",
              "  <th>Product_C</th> <td>    2.1768</td> <td>    5.654</td> <td>    0.385</td> <td> 0.710</td> <td>  -10.861</td> <td>   15.215</td>\n",
              "</tr>\n",
              "<tr>\n",
              "  <th>Product_D</th> <td>    1.7534</td> <td>    0.525</td> <td>    3.337</td> <td> 0.010</td> <td>    0.542</td> <td>    2.965</td>\n",
              "</tr>\n",
              "<tr>\n",
              "  <th>Product_E</th> <td>   -2.3821</td> <td>    4.860</td> <td>   -0.490</td> <td> 0.637</td> <td>  -13.590</td> <td>    8.826</td>\n",
              "</tr>\n",
              "<tr>\n",
              "  <th>Product_F</th> <td>    5.1077</td> <td>    4.640</td> <td>    1.101</td> <td> 0.303</td> <td>   -5.592</td> <td>   15.807</td>\n",
              "</tr>\n",
              "<tr>\n",
              "  <th>Product_G</th> <td> -194.1009</td> <td>  167.736</td> <td>   -1.157</td> <td> 0.281</td> <td> -580.900</td> <td>  192.698</td>\n",
              "</tr>\n",
              "</table>\n",
              "<table class=\"simpletable\">\n",
              "<tr>\n",
              "  <th>Omnibus:</th>       <td> 0.095</td> <th>  Durbin-Watson:     </th> <td>   1.520</td>\n",
              "</tr>\n",
              "<tr>\n",
              "  <th>Prob(Omnibus):</th> <td> 0.954</td> <th>  Jarque-Bera (JB):  </th> <td>   0.111</td>\n",
              "</tr>\n",
              "<tr>\n",
              "  <th>Skew:</th>          <td> 0.100</td> <th>  Prob(JB):          </th> <td>   0.946</td>\n",
              "</tr>\n",
              "<tr>\n",
              "  <th>Kurtosis:</th>      <td> 2.629</td> <th>  Cond. No.          </th> <td>3.00e+07</td>\n",
              "</tr>\n",
              "</table><br/><br/>Notes:<br/>[1] Standard Errors assume that the covariance matrix of the errors is correctly specified.<br/>[2] The condition number is large,  3e+07. This might indicate that there are<br/>strong multicollinearity or other numerical problems."
            ]
          },
          "metadata": {},
          "execution_count": 28
        }
      ],
      "source": [
        "#get standard output\n",
        "est.summary()"
      ]
    },
    {
      "cell_type": "code",
      "execution_count": null,
      "metadata": {
        "id": "lL2Ux1VJ_eTP"
      },
      "outputs": [],
      "source": [
        "#predicted values\n",
        "#using the training data\n",
        "pred = est.fittedvalues\n",
        "resid = est.resid\n",
        "\n",
        "# disable chained assignments\n",
        "pd.options.mode.chained_assignment = None \n",
        "\n",
        "Fina['yhat'] = pred #predicted values\n",
        "Fina['resid'] = resid #residual values"
      ]
    },
    {
      "cell_type": "code",
      "execution_count": null,
      "metadata": {
        "id": "Gd8deNAndc85",
        "colab": {
          "base_uri": "https://localhost:8080/",
          "height": 456
        },
        "outputId": "dc7aaff5-ec1e-4879-8cac-0ffc1d1251f9"
      },
      "outputs": [
        {
          "output_type": "execute_result",
          "data": {
            "text/plain": [
              "       Data  B_Qty  C_Qty  D_Qty  E_Qty  F_Qty  G_Qty  Product_B  Product_C  \\\n",
              "0  1-Jan-19      2      0     22     13      6      2    2000000          0   \n",
              "1  1-Apr-19      3      0     25      0      0      1    3000000          0   \n",
              "2  1-Jul-19      0      0     46      1      9      4          0          0   \n",
              "3  1-Oct-19      7      0      4      3     20      1    7000000          0   \n",
              "4  1-Jan-20      0      0     13      2      1      1          0          0   \n",
              "\n",
              "   Product_D  ...  Reagent_G  Cons_Total  customer_1  customer_5  customer_11  \\\n",
              "0    5940000  ...    14629.5  16492761.4    15543119     3713000      1302856   \n",
              "1    6750000  ...        0.0  16779831.6    16168168     3819028      2271309   \n",
              "2   12420000  ...        0.0  16746946.0    19478534     1397282      3033029   \n",
              "3    1080000  ...    17377.9  17112714.6    18174553     2946175      1274149   \n",
              "4    3510000  ...        0.0  21853663.5    20098973     2043207      1508007   \n",
              "\n",
              "   customer_14  customer_17  Total_SQ_PC          yhat         resid  \n",
              "0      1421490      1125999     25895340  2.702988e+07 -1.134535e+06  \n",
              "1      1395880      2948214     29557736  3.247202e+07 -2.914282e+06  \n",
              "2       600171       369660     28015719  2.880532e+07 -7.895963e+05  \n",
              "3      1187931        21067     26729096  2.694166e+07 -2.125645e+05  \n",
              "4      2124308      1410110     29205905  3.212112e+07 -2.915213e+06  \n",
              "\n",
              "[5 rows x 29 columns]"
            ],
            "text/html": [
              "\n",
              "  <div id=\"df-7e464c57-df38-4a11-bb87-2200cec83dab\">\n",
              "    <div class=\"colab-df-container\">\n",
              "      <div>\n",
              "<style scoped>\n",
              "    .dataframe tbody tr th:only-of-type {\n",
              "        vertical-align: middle;\n",
              "    }\n",
              "\n",
              "    .dataframe tbody tr th {\n",
              "        vertical-align: top;\n",
              "    }\n",
              "\n",
              "    .dataframe thead th {\n",
              "        text-align: right;\n",
              "    }\n",
              "</style>\n",
              "<table border=\"1\" class=\"dataframe\">\n",
              "  <thead>\n",
              "    <tr style=\"text-align: right;\">\n",
              "      <th></th>\n",
              "      <th>Data</th>\n",
              "      <th>B_Qty</th>\n",
              "      <th>C_Qty</th>\n",
              "      <th>D_Qty</th>\n",
              "      <th>E_Qty</th>\n",
              "      <th>F_Qty</th>\n",
              "      <th>G_Qty</th>\n",
              "      <th>Product_B</th>\n",
              "      <th>Product_C</th>\n",
              "      <th>Product_D</th>\n",
              "      <th>...</th>\n",
              "      <th>Reagent_G</th>\n",
              "      <th>Cons_Total</th>\n",
              "      <th>customer_1</th>\n",
              "      <th>customer_5</th>\n",
              "      <th>customer_11</th>\n",
              "      <th>customer_14</th>\n",
              "      <th>customer_17</th>\n",
              "      <th>Total_SQ_PC</th>\n",
              "      <th>yhat</th>\n",
              "      <th>resid</th>\n",
              "    </tr>\n",
              "  </thead>\n",
              "  <tbody>\n",
              "    <tr>\n",
              "      <th>0</th>\n",
              "      <td>1-Jan-19</td>\n",
              "      <td>2</td>\n",
              "      <td>0</td>\n",
              "      <td>22</td>\n",
              "      <td>13</td>\n",
              "      <td>6</td>\n",
              "      <td>2</td>\n",
              "      <td>2000000</td>\n",
              "      <td>0</td>\n",
              "      <td>5940000</td>\n",
              "      <td>...</td>\n",
              "      <td>14629.5</td>\n",
              "      <td>16492761.4</td>\n",
              "      <td>15543119</td>\n",
              "      <td>3713000</td>\n",
              "      <td>1302856</td>\n",
              "      <td>1421490</td>\n",
              "      <td>1125999</td>\n",
              "      <td>25895340</td>\n",
              "      <td>2.702988e+07</td>\n",
              "      <td>-1.134535e+06</td>\n",
              "    </tr>\n",
              "    <tr>\n",
              "      <th>1</th>\n",
              "      <td>1-Apr-19</td>\n",
              "      <td>3</td>\n",
              "      <td>0</td>\n",
              "      <td>25</td>\n",
              "      <td>0</td>\n",
              "      <td>0</td>\n",
              "      <td>1</td>\n",
              "      <td>3000000</td>\n",
              "      <td>0</td>\n",
              "      <td>6750000</td>\n",
              "      <td>...</td>\n",
              "      <td>0.0</td>\n",
              "      <td>16779831.6</td>\n",
              "      <td>16168168</td>\n",
              "      <td>3819028</td>\n",
              "      <td>2271309</td>\n",
              "      <td>1395880</td>\n",
              "      <td>2948214</td>\n",
              "      <td>29557736</td>\n",
              "      <td>3.247202e+07</td>\n",
              "      <td>-2.914282e+06</td>\n",
              "    </tr>\n",
              "    <tr>\n",
              "      <th>2</th>\n",
              "      <td>1-Jul-19</td>\n",
              "      <td>0</td>\n",
              "      <td>0</td>\n",
              "      <td>46</td>\n",
              "      <td>1</td>\n",
              "      <td>9</td>\n",
              "      <td>4</td>\n",
              "      <td>0</td>\n",
              "      <td>0</td>\n",
              "      <td>12420000</td>\n",
              "      <td>...</td>\n",
              "      <td>0.0</td>\n",
              "      <td>16746946.0</td>\n",
              "      <td>19478534</td>\n",
              "      <td>1397282</td>\n",
              "      <td>3033029</td>\n",
              "      <td>600171</td>\n",
              "      <td>369660</td>\n",
              "      <td>28015719</td>\n",
              "      <td>2.880532e+07</td>\n",
              "      <td>-7.895963e+05</td>\n",
              "    </tr>\n",
              "    <tr>\n",
              "      <th>3</th>\n",
              "      <td>1-Oct-19</td>\n",
              "      <td>7</td>\n",
              "      <td>0</td>\n",
              "      <td>4</td>\n",
              "      <td>3</td>\n",
              "      <td>20</td>\n",
              "      <td>1</td>\n",
              "      <td>7000000</td>\n",
              "      <td>0</td>\n",
              "      <td>1080000</td>\n",
              "      <td>...</td>\n",
              "      <td>17377.9</td>\n",
              "      <td>17112714.6</td>\n",
              "      <td>18174553</td>\n",
              "      <td>2946175</td>\n",
              "      <td>1274149</td>\n",
              "      <td>1187931</td>\n",
              "      <td>21067</td>\n",
              "      <td>26729096</td>\n",
              "      <td>2.694166e+07</td>\n",
              "      <td>-2.125645e+05</td>\n",
              "    </tr>\n",
              "    <tr>\n",
              "      <th>4</th>\n",
              "      <td>1-Jan-20</td>\n",
              "      <td>0</td>\n",
              "      <td>0</td>\n",
              "      <td>13</td>\n",
              "      <td>2</td>\n",
              "      <td>1</td>\n",
              "      <td>1</td>\n",
              "      <td>0</td>\n",
              "      <td>0</td>\n",
              "      <td>3510000</td>\n",
              "      <td>...</td>\n",
              "      <td>0.0</td>\n",
              "      <td>21853663.5</td>\n",
              "      <td>20098973</td>\n",
              "      <td>2043207</td>\n",
              "      <td>1508007</td>\n",
              "      <td>2124308</td>\n",
              "      <td>1410110</td>\n",
              "      <td>29205905</td>\n",
              "      <td>3.212112e+07</td>\n",
              "      <td>-2.915213e+06</td>\n",
              "    </tr>\n",
              "  </tbody>\n",
              "</table>\n",
              "<p>5 rows × 29 columns</p>\n",
              "</div>\n",
              "      <button class=\"colab-df-convert\" onclick=\"convertToInteractive('df-7e464c57-df38-4a11-bb87-2200cec83dab')\"\n",
              "              title=\"Convert this dataframe to an interactive table.\"\n",
              "              style=\"display:none;\">\n",
              "        \n",
              "  <svg xmlns=\"http://www.w3.org/2000/svg\" height=\"24px\"viewBox=\"0 0 24 24\"\n",
              "       width=\"24px\">\n",
              "    <path d=\"M0 0h24v24H0V0z\" fill=\"none\"/>\n",
              "    <path d=\"M18.56 5.44l.94 2.06.94-2.06 2.06-.94-2.06-.94-.94-2.06-.94 2.06-2.06.94zm-11 1L8.5 8.5l.94-2.06 2.06-.94-2.06-.94L8.5 2.5l-.94 2.06-2.06.94zm10 10l.94 2.06.94-2.06 2.06-.94-2.06-.94-.94-2.06-.94 2.06-2.06.94z\"/><path d=\"M17.41 7.96l-1.37-1.37c-.4-.4-.92-.59-1.43-.59-.52 0-1.04.2-1.43.59L10.3 9.45l-7.72 7.72c-.78.78-.78 2.05 0 2.83L4 21.41c.39.39.9.59 1.41.59.51 0 1.02-.2 1.41-.59l7.78-7.78 2.81-2.81c.8-.78.8-2.07 0-2.86zM5.41 20L4 18.59l7.72-7.72 1.47 1.35L5.41 20z\"/>\n",
              "  </svg>\n",
              "      </button>\n",
              "      \n",
              "  <style>\n",
              "    .colab-df-container {\n",
              "      display:flex;\n",
              "      flex-wrap:wrap;\n",
              "      gap: 12px;\n",
              "    }\n",
              "\n",
              "    .colab-df-convert {\n",
              "      background-color: #E8F0FE;\n",
              "      border: none;\n",
              "      border-radius: 50%;\n",
              "      cursor: pointer;\n",
              "      display: none;\n",
              "      fill: #1967D2;\n",
              "      height: 32px;\n",
              "      padding: 0 0 0 0;\n",
              "      width: 32px;\n",
              "    }\n",
              "\n",
              "    .colab-df-convert:hover {\n",
              "      background-color: #E2EBFA;\n",
              "      box-shadow: 0px 1px 2px rgba(60, 64, 67, 0.3), 0px 1px 3px 1px rgba(60, 64, 67, 0.15);\n",
              "      fill: #174EA6;\n",
              "    }\n",
              "\n",
              "    [theme=dark] .colab-df-convert {\n",
              "      background-color: #3B4455;\n",
              "      fill: #D2E3FC;\n",
              "    }\n",
              "\n",
              "    [theme=dark] .colab-df-convert:hover {\n",
              "      background-color: #434B5C;\n",
              "      box-shadow: 0px 1px 3px 1px rgba(0, 0, 0, 0.15);\n",
              "      filter: drop-shadow(0px 1px 2px rgba(0, 0, 0, 0.3));\n",
              "      fill: #FFFFFF;\n",
              "    }\n",
              "  </style>\n",
              "\n",
              "      <script>\n",
              "        const buttonEl =\n",
              "          document.querySelector('#df-7e464c57-df38-4a11-bb87-2200cec83dab button.colab-df-convert');\n",
              "        buttonEl.style.display =\n",
              "          google.colab.kernel.accessAllowed ? 'block' : 'none';\n",
              "\n",
              "        async function convertToInteractive(key) {\n",
              "          const element = document.querySelector('#df-7e464c57-df38-4a11-bb87-2200cec83dab');\n",
              "          const dataTable =\n",
              "            await google.colab.kernel.invokeFunction('convertToInteractive',\n",
              "                                                     [key], {});\n",
              "          if (!dataTable) return;\n",
              "\n",
              "          const docLinkHtml = 'Like what you see? Visit the ' +\n",
              "            '<a target=\"_blank\" href=https://colab.research.google.com/notebooks/data_table.ipynb>data table notebook</a>'\n",
              "            + ' to learn more about interactive tables.';\n",
              "          element.innerHTML = '';\n",
              "          dataTable['output_type'] = 'display_data';\n",
              "          await google.colab.output.renderOutput(dataTable, element);\n",
              "          const docLink = document.createElement('div');\n",
              "          docLink.innerHTML = docLinkHtml;\n",
              "          element.appendChild(docLink);\n",
              "        }\n",
              "      </script>\n",
              "    </div>\n",
              "  </div>\n",
              "  "
            ]
          },
          "metadata": {},
          "execution_count": 29
        }
      ],
      "source": [
        "Fina.head()"
      ]
    },
    {
      "cell_type": "code",
      "execution_count": null,
      "metadata": {
        "id": "gNX0BjPoAaKn",
        "colab": {
          "base_uri": "https://localhost:8080/"
        },
        "outputId": "6fd298e0-52ad-412c-95f1-fe4158baeb57"
      },
      "outputs": [
        {
          "output_type": "stream",
          "name": "stdout",
          "text": [
            "0     2.702988e+07\n",
            "1     3.247202e+07\n",
            "2     2.880532e+07\n",
            "3     2.694166e+07\n",
            "4     3.212112e+07\n",
            "5     2.409669e+07\n",
            "6     2.803451e+07\n",
            "7     2.716814e+07\n",
            "8     4.766872e+07\n",
            "9     5.375202e+07\n",
            "10    4.292876e+07\n",
            "11    3.335925e+07\n",
            "12    5.056671e+07\n",
            "13    4.019998e+07\n",
            "14    4.584980e+07\n",
            "Name: yhat, dtype: float64\n"
          ]
        }
      ],
      "source": [
        "print(Fina['yhat'])"
      ]
    },
    {
      "cell_type": "code",
      "execution_count": null,
      "metadata": {
        "id": "r7gv1MgfAXDU"
      },
      "outputs": [],
      "source": [
        "#same as above?\n",
        "checkpred=298.4881+-28.5354*goodbelly['Average_Retail_Price']+77.4369*goodbelly['Sales_Rep']+305.1021*goodbelly['Endcap']+111.1328*goodbelly['Demo']+73.5172*goodbelly['Demo1_3']+67.5698*goodbelly['Demo4_5']+-1.5942*goodbelly['Natural']+-1.0197*goodbelly['Fitness']\n",
        "checkpred.head()"
      ]
    },
    {
      "cell_type": "code",
      "execution_count": null,
      "metadata": {
        "id": "t_Uz5Q3f_qoe",
        "colab": {
          "base_uri": "https://localhost:8080/",
          "height": 295
        },
        "outputId": "41167bc2-2cff-4bbd-8b00-3e1b0bfe7e5f"
      },
      "outputs": [
        {
          "output_type": "display_data",
          "data": {
            "text/plain": [
              "<Figure size 432x288 with 1 Axes>"
            ],
            "image/png": "[encoded data removed]"
          },
          "metadata": {
            "needs_background": "light"
          }
        }
      ],
      "source": [
        "#plot the actual and predicted\n",
        "#add a line\n",
        "lineStart = Fina.Total_SQ_PC.min() \n",
        "lineEnd = Fina.Total_SQ_PC.max()\n",
        "plt.figure()\n",
        "plt.scatter(Fina['Total_SQ_PC'],Fina['yhat'], marker='o',color = 'k', alpha=0.5)\n",
        "plt.plot([lineStart, lineEnd], [lineStart, lineEnd], 'k-', color = 'r')\n",
        "plt.xlim(lineStart, lineEnd)\n",
        "plt.ylim(lineStart, lineEnd)\n",
        "plt.title('Predicted vs. Actual')\n",
        "plt.xlabel('Actual')\n",
        "plt.ylabel('Predicted')\n",
        "\n",
        "plt.show()"
      ]
    },
    {
      "cell_type": "code",
      "execution_count": null,
      "metadata": {
        "id": "3Sf-C0Y6_-OR",
        "colab": {
          "base_uri": "https://localhost:8080/",
          "height": 295
        },
        "outputId": "3454b490-61db-4909-a12e-9b45325223bc"
      },
      "outputs": [
        {
          "output_type": "display_data",
          "data": {
            "text/plain": [
              "<Figure size 432x288 with 1 Axes>"
            ],
            "image/png": "[encoded data removed]"
          },
          "metadata": {
            "needs_background": "light"
          }
        }
      ],
      "source": [
        "#residual\n",
        "residcalc = Fina['Total_SQ_PC'] - Fina['yhat']\n",
        "residcalc.hist(bins = 40)\n",
        "plt.title('Histogram of prediction errors')\n",
        "plt.xlabel('Sales prediction error')\n",
        "plt.ylabel('Frequency')\n",
        "plt.show()"
      ]
    },
    {
      "cell_type": "code",
      "execution_count": null,
      "metadata": {
        "id": "eD8mR2fDAOiM",
        "colab": {
          "base_uri": "https://localhost:8080/"
        },
        "outputId": "a657e194-696c-4531-896f-05accb5ceb55"
      },
      "outputs": [
        {
          "output_type": "execute_result",
          "data": {
            "text/plain": [
              "3884764942787.807"
            ]
          },
          "metadata": {},
          "execution_count": 33
        }
      ],
      "source": [
        "#Mean Squared Error \n",
        "from sklearn.metrics import mean_squared_error\n",
        "mean_squared_error(Fina['Total_SQ_PC'], Fina['yhat'], squared=True)"
      ]
    },
    {
      "cell_type": "code",
      "execution_count": null,
      "metadata": {
        "id": "VGtr92KfdXk_",
        "colab": {
          "base_uri": "https://localhost:8080/"
        },
        "outputId": "11977558-fbad-411e-c50b-411c2a6e98db"
      },
      "outputs": [
        {
          "output_type": "execute_result",
          "data": {
            "text/plain": [
              "1970980.7058385445"
            ]
          },
          "metadata": {},
          "execution_count": 34
        }
      ],
      "source": [
        "#RMSE\n",
        "from sklearn.metrics import mean_squared_error\n",
        "mean_squared_error(Fina['Total_SQ_PC'], Fina['yhat'], squared=False) #squared = False will return the RMSE"
      ]
    },
    {
      "cell_type": "code",
      "execution_count": null,
      "metadata": {
        "id": "KBLejIYbHWps",
        "colab": {
          "base_uri": "https://localhost:8080/"
        },
        "outputId": "85a24a0e-05c6-4e48-9750-b24ea247fccc"
      },
      "outputs": [
        {
          "output_type": "execute_result",
          "data": {
            "text/plain": [
              "1484817.5539632945"
            ]
          },
          "metadata": {},
          "execution_count": 35
        }
      ],
      "source": [
        "#Mean Absolute Error \n",
        "from sklearn.metrics import mean_absolute_error\n",
        "mean_absolute_error(Fina['Total_SQ_PC'], Fina['yhat'])"
      ]
    },
    {
      "cell_type": "code",
      "execution_count": null,
      "metadata": {
        "id": "zjOEl9ABc3RD",
        "colab": {
          "base_uri": "https://localhost:8080/"
        },
        "outputId": "de8d677e-d1a2-4c68-ca8f-38b6a49dc50c"
      },
      "outputs": [
        {
          "output_type": "execute_result",
          "data": {
            "text/plain": [
              "0.04338218458042438"
            ]
          },
          "metadata": {},
          "execution_count": 36
        }
      ],
      "source": [
        "#Mean Absolute Percentage Error \n",
        "from sklearn.metrics import mean_absolute_percentage_error\n",
        "mean_absolute_percentage_error(Fina['Total_SQ_PC'], Fina['yhat'])"
      ]
    },
    {
      "cell_type": "code",
      "execution_count": null,
      "metadata": {
        "id": "XUfMsyTWfSvm"
      },
      "outputs": [],
      "source": [
        "#model\n",
        "est2 = smf.ols('Units_Sold ~ Average_Retail_Price + Sales_Rep + Endcap + Demo + Demo1_3 + Demo4_5',goodbelly).fit()\n",
        "est2.summary()"
      ]
    },
    {
      "cell_type": "markdown",
      "metadata": {
        "id": "niQBudRPhWVL"
      },
      "source": [
        "# Movies Data Analysis"
      ]
    },
    {
      "cell_type": "code",
      "execution_count": null,
      "metadata": {
        "colab": {
          "base_uri": "https://localhost:8080/",
          "height": 58
        },
        "id": "Msd72sCNg-1T",
        "outputId": "3df351f3-d7fb-43ea-9b63-96706457754f"
      },
      "outputs": [
        {
          "output_type": "display_data",
          "data": {
            "text/plain": [
              "<IPython.core.display.HTML object>"
            ],
            "text/html": [
              "\n",
              "     <input type=\"file\" id=\"files-96310a1c-151b-459b-9f4f-a7cb8db684e9\" name=\"files[]\" multiple disabled\n",
              "        style=\"border:none\" />\n",
              "     <output id=\"result-96310a1c-151b-459b-9f4f-a7cb8db684e9\">\n",
              "      Upload widget is only available when the cell has been executed in the\n",
              "      current browser session. Please rerun this cell to enable.\n",
              "      </output>\n",
              "      <script>// Copyright 2017 Google LLC\n",
              "//\n",
              "// Licensed under the Apache License, Version 2.0 (the \"License\");\n",
              "// you may not use this file except in compliance with the License.\n",
              "// You may obtain a copy of the License at\n",
              "//\n",
              "//      http://www.apache.org/licenses/LICENSE-2.0\n",
              "//\n",
              "// Unless required by applicable law or agreed to in writing, software\n",
              "// distributed under the License is distributed on an \"AS IS\" BASIS,\n",
              "// WITHOUT WARRANTIES OR CONDITIONS OF ANY KIND, either express or implied.\n",
              "// See the License for the specific language governing permissions and\n",
              "// limitations under the License.\n",
              "\n",
              "/**\n",
              " * @fileoverview Helpers for google.colab Python module.\n",
              " */\n",
              "(function(scope) {\n",
              "function span(text, styleAttributes = {}) {\n",
              "  const element = document.createElement('span');\n",
              "  element.textContent = text;\n",
              "  for (const key of Object.keys(styleAttributes)) {\n",
              "    element.style[key] = styleAttributes[key];\n",
              "  }\n",
              "  return element;\n",
              "}\n",
              "\n",
              "// Max number of bytes which will be uploaded at a time.\n",
              "const MAX_PAYLOAD_SIZE = 100 * 1024;\n",
              "\n",
              "function _uploadFiles(inputId, outputId) {\n",
              "  const steps = uploadFilesStep(inputId, outputId);\n",
              "  const outputElement = document.getElementById(outputId);\n",
              "  // Cache steps on the outputElement to make it available for the next call\n",
              "  // to uploadFilesContinue from Python.\n",
              "  outputElement.steps = steps;\n",
              "\n",
              "  return _uploadFilesContinue(outputId);\n",
              "}\n",
              "\n",
              "// This is roughly an async generator (not supported in the browser yet),\n",
              "// where there are multiple asynchronous steps and the Python side is going\n",
              "// to poll for completion of each step.\n",
              "// This uses a Promise to block the python side on completion of each step,\n",
              "// then passes the result of the previous step as the input to the next step.\n",
              "function _uploadFilesContinue(outputId) {\n",
              "  const outputElement = document.getElementById(outputId);\n",
              "  const steps = outputElement.steps;\n",
              "\n",
              "  const next = steps.next(outputElement.lastPromiseValue);\n",
              "  return Promise.resolve(next.value.promise).then((value) => {\n",
              "    // Cache the last promise value to make it available to the next\n",
              "    // step of the generator.\n",
              "    outputElement.lastPromiseValue = value;\n",
              "    return next.value.response;\n",
              "  });\n",
              "}\n",
              "\n",
              "/**\n",
              " * Generator function which is called between each async step of the upload\n",
              " * process.\n",
              " * @param {string} inputId Element ID of the input file picker element.\n",
              " * @param {string} outputId Element ID of the output display.\n",
              " * @return {!Iterable<!Object>} Iterable of next steps.\n",
              " */\n",
              "function* uploadFilesStep(inputId, outputId) {\n",
              "  const inputElement = document.getElementById(inputId);\n",
              "  inputElement.disabled = false;\n",
              "\n",
              "  const outputElement = document.getElementById(outputId);\n",
              "  outputElement.innerHTML = '';\n",
              "\n",
              "  const pickedPromise = new Promise((resolve) => {\n",
              "    inputElement.addEventListener('change', (e) => {\n",
              "      resolve(e.target.files);\n",
              "    });\n",
              "  });\n",
              "\n",
              "  const cancel = document.createElement('button');\n",
              "  inputElement.parentElement.appendChild(cancel);\n",
              "  cancel.textContent = 'Cancel upload';\n",
              "  const cancelPromise = new Promise((resolve) => {\n",
              "    cancel.onclick = () => {\n",
              "      resolve(null);\n",
              "    };\n",
              "  });\n",
              "\n",
              "  // Wait for the user to pick the files.\n",
              "  const files = yield {\n",
              "    promise: Promise.race([pickedPromise, cancelPromise]),\n",
              "    response: {\n",
              "      action: 'starting',\n",
              "    }\n",
              "  };\n",
              "\n",
              "  cancel.remove();\n",
              "\n",
              "  // Disable the input element since further picks are not allowed.\n",
              "  inputElement.disabled = true;\n",
              "\n",
              "  if (!files) {\n",
              "    return {\n",
              "      response: {\n",
              "        action: 'complete',\n",
              "      }\n",
              "    };\n",
              "  }\n",
              "\n",
              "  for (const file of files) {\n",
              "    const li = document.createElement('li');\n",
              "    li.append(span(file.name, {fontWeight: 'bold'}));\n",
              "    li.append(span(\n",
              "        `(${file.type || 'n/a'}) - ${file.size} bytes, ` +\n",
              "        `last modified: ${\n",
              "            file.lastModifiedDate ? file.lastModifiedDate.toLocaleDateString() :\n",
              "                                    'n/a'} - `));\n",
              "    const percent = span('0% done');\n",
              "    li.appendChild(percent);\n",
              "\n",
              "    outputElement.appendChild(li);\n",
              "\n",
              "    const fileDataPromise = new Promise((resolve) => {\n",
              "      const reader = new FileReader();\n",
              "      reader.onload = (e) => {\n",
              "        resolve(e.target.result);\n",
              "      };\n",
              "      reader.readAsArrayBuffer(file);\n",
              "    });\n",
              "    // Wait for the data to be ready.\n",
              "    let fileData = yield {\n",
              "      promise: fileDataPromise,\n",
              "      response: {\n",
              "        action: 'continue',\n",
              "      }\n",
              "    };\n",
              "\n",
              "    // Use a chunked sending to avoid message size limits. See b/62115660.\n",
              "    let position = 0;\n",
              "    do {\n",
              "      const length = Math.min(fileData.byteLength - position, MAX_PAYLOAD_SIZE);\n",
              "      const chunk = new Uint8Array(fileData, position, length);\n",
              "      position += length;\n",
              "\n",
              "      const base64 = btoa(String.fromCharCode.apply(null, chunk));\n",
              "      yield {\n",
              "        response: {\n",
              "          action: 'append',\n",
              "          file: file.name,\n",
              "          data: base64,\n",
              "        },\n",
              "      };\n",
              "\n",
              "      let percentDone = fileData.byteLength === 0 ?\n",
              "          100 :\n",
              "          Math.round((position / fileData.byteLength) * 100);\n",
              "      percent.textContent = `${percentDone}% done`;\n",
              "\n",
              "    } while (position < fileData.byteLength);\n",
              "  }\n",
              "\n",
              "  // All done.\n",
              "  yield {\n",
              "    response: {\n",
              "      action: 'complete',\n",
              "    }\n",
              "  };\n",
              "}\n",
              "\n",
              "scope.google = scope.google || {};\n",
              "scope.google.colab = scope.google.colab || {};\n",
              "scope.google.colab._files = {\n",
              "  _uploadFiles,\n",
              "  _uploadFilesContinue,\n",
              "};\n",
              "})(self);\n",
              "</script> "
            ]
          },
          "metadata": {}
        },
        {
          "output_type": "execute_result",
          "data": {
            "text/plain": [
              "{}"
            ]
          },
          "metadata": {},
          "execution_count": 61
        }
      ],
      "source": [
        "#Upload files via google colab (not a typical import process for Python)\n",
        "from google.colab import files\n",
        "files.upload()"
      ]
    },
    {
      "cell_type": "markdown",
      "metadata": {
        "id": "yl7DIcUwU3eH"
      },
      "source": []
    },
    {
      "cell_type": "code",
      "execution_count": null,
      "metadata": {
        "id": "jo4YN-SXhxHv"
      },
      "outputs": [],
      "source": [
        "#Python dataset\n",
        "Fina = pd.read_csv('/content/Fina.csv');"
      ]
    },
    {
      "cell_type": "code",
      "execution_count": null,
      "metadata": {
        "id": "aeKEMw2Gh4AL"
      },
      "outputs": [],
      "source": [
        "#print first several records\n",
        "Fina.head()"
      ]
    },
    {
      "cell_type": "code",
      "execution_count": null,
      "metadata": {
        "id": "dSi9vpB4TQni"
      },
      "outputs": [],
      "source": [
        "F.describe"
      ]
    },
    {
      "cell_type": "code",
      "execution_count": null,
      "metadata": {
        "id": "jPpmp6d1WUv6"
      },
      "outputs": [],
      "source": [
        "F.info()"
      ]
    },
    {
      "cell_type": "code",
      "execution_count": null,
      "metadata": {
        "id": "THwlQw5UUmW9"
      },
      "outputs": [],
      "source": [
        "#install profiling package-need to run this once\n",
        "! pip install https://github.com/pandas-profiling/pandas-profiling/archive/master.zip "
      ]
    },
    {
      "cell_type": "code",
      "execution_count": null,
      "metadata": {
        "id": "27xHbZ8YUsbM"
      },
      "outputs": [],
      "source": [
        "from pandas_profiling import ProfileReport"
      ]
    },
    {
      "cell_type": "code",
      "execution_count": null,
      "metadata": {
        "id": "BbQ7t6pNVCQd"
      },
      "outputs": [],
      "source": [
        "#run the profile report\n",
        "profile = ProfileReport(Fina,title=\"Bio Tech\")\n",
        "profile.to_notebook_iframe()"
      ]
    },
    {
      "cell_type": "code",
      "execution_count": null,
      "metadata": {
        "id": "rOoxE0aVWgln"
      },
      "outputs": [],
      "source": [
        "#regression\n",
        "from statsmodels.api import OLS\n",
        "import statsmodels.formula.api as smf"
      ]
    },
    {
      "cell_type": "code",
      "source": [
        "est = smf.ols('Total_SQ_PC ~ Product_B + Product_C + Product_D + Product_E + Product_F + Product_G ',Fina).fit()"
      ],
      "metadata": {
        "id": "ECP7JuZMnMbg"
      },
      "execution_count": null,
      "outputs": []
    },
    {
      "cell_type": "code",
      "source": [
        "est2 = smf.ols('Total_SQ_PC ~ Reagent_B + Reagent_C + Reagent_D + Reagent_E + Reagent_F + Reagent_G ',Fina).fit()"
      ],
      "metadata": {
        "id": "IPguIb3VnXEz"
      },
      "execution_count": null,
      "outputs": []
    },
    {
      "cell_type": "code",
      "source": [
        "est3 = smf.ols('Total_SQ_PC ~ Inst_Total + Cons_Total ',Fina).fit()"
      ],
      "metadata": {
        "id": "gWRGkliynI54"
      },
      "execution_count": null,
      "outputs": []
    },
    {
      "cell_type": "code",
      "execution_count": null,
      "metadata": {
        "id": "42zpRCxkV-HF"
      },
      "outputs": [],
      "source": [
        "#model\n",
        "est4 = smf.ols('Total_SQ_PC ~ customer_1 + customer_5 + customer_11 + customer_14 + customer_17 ',Fina).fit()"
      ]
    },
    {
      "cell_type": "code",
      "source": [],
      "metadata": {
        "id": "zus6e9YtUCsI"
      },
      "execution_count": null,
      "outputs": []
    },
    {
      "cell_type": "code",
      "execution_count": null,
      "metadata": {
        "id": "UcwbZlK_XlGN"
      },
      "outputs": [],
      "source": [
        "#get standard output\n",
        "est4.summary()"
      ]
    },
    {
      "cell_type": "code",
      "execution_count": null,
      "metadata": {
        "id": "u9qFBuLhX4lb"
      },
      "outputs": [],
      "source": [
        "#predicted values\n",
        "#using the training data\n",
        "pred = est.fittedvalues\n",
        "resid = est.resid\n",
        "\n",
        "# disable chained assignments\n",
        "pd.options.mode.chained_assignment = None \n",
        "\n",
        "Fina['yhat'] = pred #predicted values\n",
        "Fina['resid'] = resid #residual values"
      ]
    },
    {
      "cell_type": "code",
      "execution_count": null,
      "metadata": {
        "id": "oNLUmdWoX7_l"
      },
      "outputs": [],
      "source": [
        "#plot the actual and predicted\n",
        "#add a line\n",
        "lineStart = Fina.Total_SQ_PC.min() \n",
        "lineEnd = Fina.Total_SQ_PC.max()\n",
        "plt.figure()\n",
        "plt.scatter(Fina['Total_SQ_PC'],Fina['yhat'], marker='o',color = 'k', alpha=0.5)\n",
        "plt.plot([lineStart, lineEnd], [lineStart, lineEnd], 'k-', color = 'r')\n",
        "plt.xlim(lineStart, lineEnd)\n",
        "plt.ylim(lineStart, lineEnd)\n",
        "plt.title('Predicted vs. Actual')\n",
        "plt.xlabel('Actual')\n",
        "plt.ylabel('Predicted')\n",
        "\n",
        "plt.show()"
      ]
    },
    {
      "cell_type": "code",
      "execution_count": null,
      "metadata": {
        "id": "DgSxbeGiep6J"
      },
      "outputs": [],
      "source": [
        "#residual\n",
        "residcalc = Fina['Total_SQ_PC'] - Fina['yhat']\n",
        "residcalc.hist(bins = 20)\n",
        "plt.title('Histogram of prediction errors')\n",
        "plt.xlabel('Sales prediction error')\n",
        "plt.ylabel('Frequency')\n",
        "plt.show()"
      ]
    },
    {
      "cell_type": "code",
      "execution_count": null,
      "metadata": {
        "id": "e36mGP1Fa5CQ"
      },
      "outputs": [],
      "source": [
        "import statsmodels.api as sm"
      ]
    },
    {
      "cell_type": "code",
      "execution_count": null,
      "metadata": {
        "id": "XZhJYBpwaguJ"
      },
      "outputs": [],
      "source": [
        "#QQ PLOT\n",
        "plt.rc('figure', figsize=(10,10))\n",
        "plt.style.use('ggplot')\n",
        "\n",
        "probplot = sm.ProbPlot(est.get_influence().resid_studentized_internal, fit=True)\n",
        "fig = probplot.qqplot(line='45', marker='o', color='black',mfc='none')\n",
        "plt.title('Normal Q-Q', fontsize=20)\n",
        "plt.show()"
      ]
    },
    {
      "cell_type": "code",
      "execution_count": null,
      "metadata": {
        "id": "TLYFNSBPbZMT"
      },
      "outputs": [],
      "source": [
        "import seaborn as sn"
      ]
    },
    {
      "cell_type": "code",
      "execution_count": null,
      "metadata": {
        "id": "yVa_hVuBa67M"
      },
      "outputs": [],
      "source": [
        "sn.residplot(x = 'yhat', y= 'Total_SQ_PC', data=Fina, lowess = True)\n",
        "\n",
        "plt.title('Residuals vs Fitted', fontsize=20)\n",
        "plt.xlabel('Fitted Values', fontsize=15)\n",
        "plt.ylabel('Residuals', fontsize=15)"
      ]
    },
    {
      "cell_type": "code",
      "execution_count": null,
      "metadata": {
        "id": "eLZfJam1c-RK"
      },
      "outputs": [],
      "source": [
        "sn.regplot(est.fittedvalues, \n",
        "           np.sqrt(np.abs(est.get_influence().resid_studentized_internal)), \n",
        "            scatter=True, \n",
        "            ci=False, \n",
        "            lowess=True,\n",
        "            line_kws={'color': 'blue', 'lw': 1, 'alpha': 0.8},\n",
        "          scatter_kws={'facecolors':'none', 'edgecolors':'black'})\n",
        "\n",
        "plt.title('Scale-Location', fontsize=20)\n",
        "plt.xlabel('Fitted Values', fontsize=15)\n",
        "plt.ylabel('$\\sqrt{|Standardized Residuals|}$', fontsize=15)"
      ]
    },
    {
      "cell_type": "code",
      "source": [
        "movies_nona = Fina[Fina['yhat'].notna()]"
      ],
      "metadata": {
        "id": "VLsH_2r0UlAZ"
      },
      "execution_count": null,
      "outputs": []
    },
    {
      "cell_type": "code",
      "source": [
        "from sklearn.metrics import mean_squared_error\n",
        "mean_squared_error(movies_nona['Total_SQ_PC'], movies_nona['yhat'], squared=True)"
      ],
      "metadata": {
        "colab": {
          "base_uri": "https://localhost:8080/"
        },
        "id": "sd-62Hu-Uk3q",
        "outputId": "372be46b-7a4a-4251-c1e1-fd5571a1ca37"
      },
      "execution_count": null,
      "outputs": [
        {
          "output_type": "execute_result",
          "data": {
            "text/plain": [
              "25189258646840.176"
            ]
          },
          "metadata": {},
          "execution_count": 86
        }
      ]
    },
    {
      "cell_type": "code",
      "source": [
        "#install R packages\n",
        "%%R\n",
        "install.packages(\"ggplot2\")\n",
        "install.packages(\"leaps\")\n",
        "install.packages(\"MASS\")\n",
        "install.packages(\"tidyverse\")\n",
        "install.packages(\"lubridate\")"
      ],
      "metadata": {
        "id": "23ia1cSKVNks",
        "outputId": "b5fdfd6f-54cf-44ae-b954-0a59b88aee8d",
        "colab": {
          "base_uri": "https://localhost:8080/"
        }
      },
      "execution_count": null,
      "outputs": [
        {
          "output_type": "stream",
          "name": "stderr",
          "text": [
            "UsageError: Cell magic `%%R` not found.\n"
          ]
        }
      ]
    },
    {
      "cell_type": "code",
      "source": [],
      "metadata": {
        "id": "yW3sy-22UkwU"
      },
      "execution_count": null,
      "outputs": []
    },
    {
      "cell_type": "code",
      "execution_count": null,
      "metadata": {
        "id": "grm7gi28eOCn",
        "colab": {
          "base_uri": "https://localhost:8080/",
          "height": 704
        },
        "outputId": "d673433a-f17f-433a-f977-5af6fdbdacd8"
      },
      "outputs": [
        {
          "output_type": "stream",
          "name": "stderr",
          "text": [
            "/usr/local/lib/python3.8/dist-packages/seaborn/_decorators.py:36: FutureWarning: Pass the following variables as keyword args: x, y. From version 0.12, the only valid positional argument will be `data`, and passing other arguments without an explicit keyword will result in an error or misinterpretation.\n",
            "  warnings.warn(\n"
          ]
        },
        {
          "output_type": "execute_result",
          "data": {
            "text/plain": [
              "<matplotlib.legend.Legend at 0x7f2ef919db50>"
            ]
          },
          "metadata": {},
          "execution_count": 81
        },
        {
          "output_type": "display_data",
          "data": {
            "text/plain": [
              "<Figure size 720x720 with 1 Axes>"
            ],
            "image/png": "[encoded data removed]"
          },
          "metadata": {}
        }
      ],
      "source": [
        "from numpy import sqrt\n",
        "\n",
        "def one_line(x):\n",
        "    return sqrt((1 * len(est.params) * (1 - x)) / x)\n",
        "\n",
        "def point_five_line(x):\n",
        "    return sqrt((0.5 * len(est.params) * (1 - x)) / x)\n",
        "    \n",
        "    \n",
        "    \n",
        "def show_cooks_distance_lines(tx,inc,color,label):\n",
        "    plt.plot(inc,tx(inc), label=label,color=color, ls='--')\n",
        "    \n",
        "        \n",
        "\n",
        "sn.regplot(est.get_influence().hat_matrix_diag, \n",
        "           est.get_influence().resid_studentized_internal, \n",
        "            scatter=True, \n",
        "            ci=False, \n",
        "            lowess=True,\n",
        "            line_kws={'color': 'blue', 'lw': 1, 'alpha': 0.8},\n",
        "          scatter_kws={'facecolors':'none', 'edgecolors':'black'})\n",
        "\n",
        "show_cooks_distance_lines(one_line,\n",
        "                        np.linspace(.01,.14,100),\n",
        "                          'red',\n",
        "                          'Cooks Distance (D=1)' )\n",
        "\n",
        "show_cooks_distance_lines(point_five_line,\n",
        "                          np.linspace(.01,.14,100),\n",
        "                          'black',\n",
        "                          'Cooks Distance (D=0.5)')\n",
        "\n",
        "plt.title('Residuals vs Leverage', fontsize=20)\n",
        "plt.xlabel('Leverage', fontsize=15)\n",
        "plt.ylabel('Standardized Residuals', fontsize=15)\n",
        "plt.legend()"
      ]
    }
  ],
  "metadata": {
    "colab": {
      "provenance": []
    },
    "kernelspec": {
      "display_name": "Python 3",
      "name": "python3"
    }
  },
  "nbformat": 4,
  "nbformat_minor": 0
}